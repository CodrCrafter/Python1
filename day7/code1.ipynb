{
 "cells": [
  {
   "cell_type": "code",
   "execution_count": null,
   "metadata": {},
   "outputs": [],
   "source": [
    "#Defining a class\n",
    "class Car:\n",
    "    def __init__(self, color, model): \n",
    "        self.color = color\n",
    "        self.model = model\n",
    "    \n",
    "    def start(self):\n",
    "        print(f\"The {self.color} {self.model} is starting.\")\n",
    "#creating a object\n",
    "my_car = Car(\"Red\",\"Honda Civic\")\n",
    "my_car.start()"
   ]
  }
 ],
 "metadata": {
  "language_info": {
   "name": "python"
  }
 },
 "nbformat": 4,
 "nbformat_minor": 2
}
